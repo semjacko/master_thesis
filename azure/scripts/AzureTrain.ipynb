{
 "cells": [
  {
   "cell_type": "markdown",
   "metadata": {
    "collapsed": false,
    "pycharm": {
     "name": "#%% md\n"
    }
   },
   "source": [
    "# Azure ML quickstart\n",
    "## 1. Create local run environment\n",
    "```powershell\n",
    " pip install azureml-core azureml-telemetry azureml-widgets azureml-dataset-runtime\n",
    "```\n",
    "## 2. Create Azure Compute Cluster\n",
    "![AzureML Create compute cluster](./../img/create_cluster.png \"Create compute cluster\")\n",
    "\n",
    "![AzureML Naming convention](./../img/cluster_name.png \"Cluster naming convention\")\n",
    "\n",
    "## 3. Upload your dataset (if not present)\n",
    "Try to do it in separate script."
   ]
  },
  {
   "cell_type": "code",
   "execution_count": 1,
   "metadata": {
    "collapsed": false,
    "pycharm": {
     "name": "#%%\n"
    }
   },
   "outputs": [],
   "source": [
    "from azureml.core import Workspace\n",
    "from azureml.core.authentication import InteractiveLoginAuthentication\n",
    "from azureml.core.datastore import Datastore"
   ]
  },
  {
   "cell_type": "markdown",
   "metadata": {
    "collapsed": false,
    "pycharm": {
     "name": "#%% md\n"
    }
   },
   "source": [
    "1. you need to connect to workspace\n",
    "    - Ideally download the `config.json` and load it with it.\n",
    "    - ![config.json](./../img/config.png \"config.json for connecting to AML\")\n",
    "    - Use `InteractiveLoginAuthentification` to automatically redirect to web browser and login to Azure ML. (Use own credentials ;)"
   ]
  },
  {
   "cell_type": "code",
   "execution_count": 3,
   "metadata": {
    "collapsed": false,
    "pycharm": {
     "name": "#%%\n"
    }
   },
   "outputs": [
    {
     "ename": "UserErrorException",
     "evalue": "UserErrorException:\n\tMessage: You are currently logged-in to 25733538-6b16-4aa3-8ed6-297eb79b8e06 tenant. You don't have access to bc82dccd-f19d-42cb-9ce3-0d5df33ef086 subscription, please check if it is in this tenant. All the subscriptions that you have access to in this tenant are = \n [SubscriptionInfo(subscription_name='Azure for Students', subscription_id='41027adc-1ed8-4205-8562-161a2155faa1')]. \n Please refer to aka.ms/aml-notebook-auth for different authentication mechanisms in azureml-sdk.\n\tInnerException None\n\tErrorResponse \n{\n    \"error\": {\n        \"code\": \"UserError\",\n        \"message\": \"You are currently logged-in to 25733538-6b16-4aa3-8ed6-297eb79b8e06 tenant. You don't have access to bc82dccd-f19d-42cb-9ce3-0d5df33ef086 subscription, please check if it is in this tenant. All the subscriptions that you have access to in this tenant are = \\n [SubscriptionInfo(subscription_name='Azure for Students', subscription_id='41027adc-1ed8-4205-8562-161a2155faa1')]. \\n Please refer to aka.ms/aml-notebook-auth for different authentication mechanisms in azureml-sdk.\"\n    }\n}",
     "output_type": "error",
     "traceback": [
      "\u001b[1;31m---------------------------------------------------------------------------\u001b[0m",
      "\u001b[1;31mUserErrorException\u001b[0m                        Traceback (most recent call last)",
      "\u001b[1;32m~\\AppData\\Local\\Temp/ipykernel_6828/54678351.py\u001b[0m in \u001b[0;36m<module>\u001b[1;34m\u001b[0m\n\u001b[1;32m----> 1\u001b[1;33m \u001b[0mws\u001b[0m \u001b[1;33m=\u001b[0m \u001b[0mWorkspace\u001b[0m\u001b[1;33m.\u001b[0m\u001b[0mfrom_config\u001b[0m\u001b[1;33m(\u001b[0m\u001b[0mpath\u001b[0m\u001b[1;33m=\u001b[0m\u001b[1;34m'azure_config.json'\u001b[0m\u001b[1;33m,\u001b[0m \u001b[0mauth\u001b[0m\u001b[1;33m=\u001b[0m\u001b[0mInteractiveLoginAuthentication\u001b[0m\u001b[1;33m(\u001b[0m\u001b[1;33m)\u001b[0m\u001b[1;33m)\u001b[0m\u001b[1;33m\u001b[0m\u001b[1;33m\u001b[0m\u001b[0m\n\u001b[0m",
      "\u001b[1;32mc:\\Users\\roboj\\AppData\\Local\\Programs\\Python\\Python39\\lib\\site-packages\\azureml\\core\\workspace.py\u001b[0m in \u001b[0;36mfrom_config\u001b[1;34m(path, auth, _logger, _file_name)\u001b[0m\n\u001b[0;32m    290\u001b[0m \u001b[1;33m\u001b[0m\u001b[0m\n\u001b[0;32m    291\u001b[0m         \u001b[0m_logger\u001b[0m\u001b[1;33m.\u001b[0m\u001b[0minfo\u001b[0m\u001b[1;33m(\u001b[0m\u001b[1;34m'Found the config file in: %s'\u001b[0m\u001b[1;33m,\u001b[0m \u001b[0mfound_path\u001b[0m\u001b[1;33m)\u001b[0m\u001b[1;33m\u001b[0m\u001b[1;33m\u001b[0m\u001b[0m\n\u001b[1;32m--> 292\u001b[1;33m         return Workspace.get(\n\u001b[0m\u001b[0;32m    293\u001b[0m             \u001b[0mworkspace_name\u001b[0m\u001b[1;33m,\u001b[0m\u001b[1;33m\u001b[0m\u001b[1;33m\u001b[0m\u001b[0m\n\u001b[0;32m    294\u001b[0m             \u001b[0mauth\u001b[0m\u001b[1;33m=\u001b[0m\u001b[0mauth\u001b[0m\u001b[1;33m,\u001b[0m\u001b[1;33m\u001b[0m\u001b[1;33m\u001b[0m\u001b[0m\n",
      "\u001b[1;32mc:\\Users\\roboj\\AppData\\Local\\Programs\\Python\\Python39\\lib\\site-packages\\azureml\\core\\workspace.py\u001b[0m in \u001b[0;36mget\u001b[1;34m(name, auth, subscription_id, resource_group, location, cloud, id)\u001b[0m\n\u001b[0;32m    605\u001b[0m             \u001b[0mauth\u001b[0m \u001b[1;33m=\u001b[0m \u001b[0mInteractiveLoginAuthentication\u001b[0m\u001b[1;33m(\u001b[0m\u001b[1;33m)\u001b[0m\u001b[1;33m\u001b[0m\u001b[1;33m\u001b[0m\u001b[0m\n\u001b[0;32m    606\u001b[0m \u001b[1;33m\u001b[0m\u001b[0m\n\u001b[1;32m--> 607\u001b[1;33m         return Workspace(\n\u001b[0m\u001b[0;32m    608\u001b[0m             \u001b[0msubscription_id\u001b[0m\u001b[1;33m,\u001b[0m\u001b[1;33m\u001b[0m\u001b[1;33m\u001b[0m\u001b[0m\n\u001b[0;32m    609\u001b[0m             \u001b[0mresource_group\u001b[0m\u001b[1;33m,\u001b[0m\u001b[1;33m\u001b[0m\u001b[1;33m\u001b[0m\u001b[0m\n",
      "\u001b[1;32mc:\\Users\\roboj\\AppData\\Local\\Programs\\Python\\Python39\\lib\\site-packages\\azureml\\core\\workspace.py\u001b[0m in \u001b[0;36m__init__\u001b[1;34m(self, subscription_id, resource_group, workspace_name, auth, _location, _disable_service_check, _workspace_id, sku, tags, _cloud)\u001b[0m\n\u001b[0;32m    203\u001b[0m \u001b[1;33m\u001b[0m\u001b[0m\n\u001b[0;32m    204\u001b[0m         \u001b[1;32mif\u001b[0m \u001b[1;32mnot\u001b[0m \u001b[0m_disable_service_check\u001b[0m\u001b[1;33m:\u001b[0m\u001b[1;33m\u001b[0m\u001b[1;33m\u001b[0m\u001b[0m\n\u001b[1;32m--> 205\u001b[1;33m             auto_rest_workspace = _commands.get_workspace(\n\u001b[0m\u001b[0;32m    206\u001b[0m                 auth, subscription_id, resource_group, workspace_name, _location, _cloud, _workspace_id)\n\u001b[0;32m    207\u001b[0m             \u001b[0mself\u001b[0m\u001b[1;33m.\u001b[0m\u001b[0m_workspace_autorest_object\u001b[0m \u001b[1;33m=\u001b[0m \u001b[0mauto_rest_workspace\u001b[0m\u001b[1;33m\u001b[0m\u001b[1;33m\u001b[0m\u001b[0m\n",
      "\u001b[1;32mc:\\Users\\roboj\\AppData\\Local\\Programs\\Python\\Python39\\lib\\site-packages\\azureml\\_project\\_commands.py\u001b[0m in \u001b[0;36mget_workspace\u001b[1;34m(auth, subscription_id, resource_group_name, workspace_name, location, cloud, workspace_id)\u001b[0m\n\u001b[0;32m    464\u001b[0m         \u001b[1;32melse\u001b[0m\u001b[1;33m:\u001b[0m\u001b[1;33m\u001b[0m\u001b[1;33m\u001b[0m\u001b[0m\n\u001b[0;32m    465\u001b[0m             \u001b[1;32mtry\u001b[0m\u001b[1;33m:\u001b[0m\u001b[1;33m\u001b[0m\u001b[1;33m\u001b[0m\u001b[0m\n\u001b[1;32m--> 466\u001b[1;33m                 workspaces = auth._get_service_client(\n\u001b[0m\u001b[0;32m    467\u001b[0m                     \u001b[0mAzureMachineLearningWorkspaces\u001b[0m\u001b[1;33m,\u001b[0m\u001b[1;33m\u001b[0m\u001b[1;33m\u001b[0m\u001b[0m\n\u001b[0;32m    468\u001b[0m                     subscription_id).workspaces\n",
      "\u001b[1;32mc:\\Users\\roboj\\AppData\\Local\\Programs\\Python\\Python39\\lib\\site-packages\\azureml\\core\\authentication.py\u001b[0m in \u001b[0;36m_get_service_client\u001b[1;34m(self, client_class, subscription_id, subscription_bound, base_url, is_check_subscription)\u001b[0m\n\u001b[0;32m    228\u001b[0m         \u001b[1;32mif\u001b[0m \u001b[0msubscription_id\u001b[0m \u001b[1;32mand\u001b[0m \u001b[0mis_check_subscription\u001b[0m\u001b[1;33m:\u001b[0m\u001b[1;33m\u001b[0m\u001b[1;33m\u001b[0m\u001b[0m\n\u001b[0;32m    229\u001b[0m             \u001b[0mall_subscription_list\u001b[0m\u001b[1;33m,\u001b[0m \u001b[0mtenant_id\u001b[0m \u001b[1;33m=\u001b[0m \u001b[0mself\u001b[0m\u001b[1;33m.\u001b[0m\u001b[0m_get_all_subscription_ids\u001b[0m\u001b[1;33m(\u001b[0m\u001b[1;33m)\u001b[0m\u001b[1;33m\u001b[0m\u001b[1;33m\u001b[0m\u001b[0m\n\u001b[1;32m--> 230\u001b[1;33m             \u001b[0mself\u001b[0m\u001b[1;33m.\u001b[0m\u001b[0m_check_if_subscription_exists\u001b[0m\u001b[1;33m(\u001b[0m\u001b[0msubscription_id\u001b[0m\u001b[1;33m,\u001b[0m \u001b[0mall_subscription_list\u001b[0m\u001b[1;33m,\u001b[0m \u001b[0mtenant_id\u001b[0m\u001b[1;33m)\u001b[0m\u001b[1;33m\u001b[0m\u001b[1;33m\u001b[0m\u001b[0m\n\u001b[0m\u001b[0;32m    231\u001b[0m \u001b[1;33m\u001b[0m\u001b[0m\n\u001b[0;32m    232\u001b[0m         \u001b[1;32mif\u001b[0m \u001b[1;32mnot\u001b[0m \u001b[0mbase_url\u001b[0m\u001b[1;33m:\u001b[0m\u001b[1;33m\u001b[0m\u001b[1;33m\u001b[0m\u001b[0m\n",
      "\u001b[1;32mc:\\Users\\roboj\\AppData\\Local\\Programs\\Python\\Python39\\lib\\site-packages\\azureml\\core\\authentication.py\u001b[0m in \u001b[0;36m_check_if_subscription_exists\u001b[1;34m(self, subscription_id, subscription_id_list, tenant_id)\u001b[0m\n\u001b[0;32m    679\u001b[0m \u001b[1;33m\u001b[0m\u001b[0m\n\u001b[0;32m    680\u001b[0m     \u001b[1;32mdef\u001b[0m \u001b[0m_check_if_subscription_exists\u001b[0m\u001b[1;33m(\u001b[0m\u001b[0mself\u001b[0m\u001b[1;33m,\u001b[0m \u001b[0msubscription_id\u001b[0m\u001b[1;33m,\u001b[0m \u001b[0msubscription_id_list\u001b[0m\u001b[1;33m,\u001b[0m \u001b[0mtenant_id\u001b[0m\u001b[1;33m)\u001b[0m\u001b[1;33m:\u001b[0m\u001b[1;33m\u001b[0m\u001b[1;33m\u001b[0m\u001b[0m\n\u001b[1;32m--> 681\u001b[1;33m         super(InteractiveLoginAuthentication, self)._check_if_subscription_exists(subscription_id,\n\u001b[0m\u001b[0;32m    682\u001b[0m                                                                                   subscription_id_list, tenant_id)\n\u001b[0;32m    683\u001b[0m \u001b[1;33m\u001b[0m\u001b[0m\n",
      "\u001b[1;32mc:\\Users\\roboj\\AppData\\Local\\Programs\\Python\\Python39\\lib\\site-packages\\azureml\\core\\authentication.py\u001b[0m in \u001b[0;36m_check_if_subscription_exists\u001b[1;34m(self, subscription_id, subscription_id_list, tenant_id)\u001b[0m\n\u001b[0;32m    336\u001b[0m                                                                                    subscription_id_list))\n\u001b[0;32m    337\u001b[0m         \u001b[1;32melse\u001b[0m\u001b[1;33m:\u001b[0m\u001b[1;33m\u001b[0m\u001b[1;33m\u001b[0m\u001b[0m\n\u001b[1;32m--> 338\u001b[1;33m             raise UserErrorException(\"You are currently logged-in to {} tenant. You don't have access \"\n\u001b[0m\u001b[0;32m    339\u001b[0m                                      \u001b[1;34m\"to {} subscription, please check if it is in this tenant. \"\u001b[0m\u001b[1;33m\u001b[0m\u001b[1;33m\u001b[0m\u001b[0m\n\u001b[0;32m    340\u001b[0m                                      \u001b[1;34m\"All the subscriptions that you have access to in this tenant are = \\n \"\u001b[0m\u001b[1;33m\u001b[0m\u001b[1;33m\u001b[0m\u001b[0m\n",
      "\u001b[1;31mUserErrorException\u001b[0m: UserErrorException:\n\tMessage: You are currently logged-in to 25733538-6b16-4aa3-8ed6-297eb79b8e06 tenant. You don't have access to bc82dccd-f19d-42cb-9ce3-0d5df33ef086 subscription, please check if it is in this tenant. All the subscriptions that you have access to in this tenant are = \n [SubscriptionInfo(subscription_name='Azure for Students', subscription_id='41027adc-1ed8-4205-8562-161a2155faa1')]. \n Please refer to aka.ms/aml-notebook-auth for different authentication mechanisms in azureml-sdk.\n\tInnerException None\n\tErrorResponse \n{\n    \"error\": {\n        \"code\": \"UserError\",\n        \"message\": \"You are currently logged-in to 25733538-6b16-4aa3-8ed6-297eb79b8e06 tenant. You don't have access to bc82dccd-f19d-42cb-9ce3-0d5df33ef086 subscription, please check if it is in this tenant. All the subscriptions that you have access to in this tenant are = \\n [SubscriptionInfo(subscription_name='Azure for Students', subscription_id='41027adc-1ed8-4205-8562-161a2155faa1')]. \\n Please refer to aka.ms/aml-notebook-auth for different authentication mechanisms in azureml-sdk.\"\n    }\n}"
     ]
    }
   ],
   "source": [
    "ws = Workspace.from_config(path='azure_config.json', auth=InteractiveLoginAuthentication())"
   ]
  },
  {
   "cell_type": "markdown",
   "metadata": {
    "collapsed": false,
    "pycharm": {
     "name": "#%% md\n"
    }
   },
   "source": [
    "2. get the default Datastore (you don't have privileges to any other)"
   ]
  },
  {
   "cell_type": "code",
   "execution_count": null,
   "metadata": {
    "collapsed": false,
    "pycharm": {
     "name": "#%%\n"
    }
   },
   "outputs": [],
   "source": [
    "datastore = Datastore.get_default(ws)"
   ]
  },
  {
   "cell_type": "markdown",
   "metadata": {
    "collapsed": false,
    "pycharm": {
     "name": "#%% md\n"
    }
   },
   "source": [
    "3. Get the list of all files you want to upload\n",
    "    - there is no other way, the datasets in AzureML are only files and using the full path in their name works as the directory tree\n",
    "    - __Be extra careful with the relative_root and target_path__\n",
    "       - for example my upload that loadst data from directory \"data/...\" and uploads them into \"datasets/TexDat\"\n",
    "       - `relative_root` is the common path *parent directories* in the data names where you want your data to be translated under the `target_path`"
   ]
  },
  {
   "cell_type": "code",
   "execution_count": null,
   "metadata": {
    "collapsed": false,
    "pycharm": {
     "name": "#%%\n"
    }
   },
   "outputs": [],
   "source": [
    "import os\n",
    "files_tr = os.listdir('../data/train')\n",
    "files_tr = list(map(lambda x : os.path.join('../data/train/', x), files_tr))\n",
    "files_v = os.listdir('../data/val')\n",
    "files_v = list(map(lambda x : os.path.join('../data/val/', x), files_v))\n",
    "files_te = os.listdir('../data/test')\n",
    "files_te = list(map(lambda x : os.path.join('../data/test/', x), files_te))\n",
    "files = files_tr+files_v+files_te\n",
    "\n",
    "datastore.upload_files(files=files, relative_root='../data', target_path='datasets/TexDat')"
   ]
  },
  {
   "cell_type": "markdown",
   "metadata": {
    "collapsed": false,
    "pycharm": {
     "name": "#%% md\n"
    }
   },
   "source": [
    "## 4. Create Dataset\n",
    "For me personally, it was easier to create Dataset manually in Studio than to use the API...\n",
    "\n",
    "![Create dataset](./../img/create_dataset.gif \"Create Dataset, ..., File, Blob, ..., Path to files/**\")"
   ]
  },
  {
   "cell_type": "markdown",
   "metadata": {
    "collapsed": false,
    "pycharm": {
     "name": "#%% md\n"
    }
   },
   "source": [
    "## 5. Create Control run script\n",
    "There are several tutorials in the AzureML documentation... maybe most useful are these few:\n",
    "1. [Hello World](https://docs.microsoft.com/en-us/azure/machine-learning/tutorial-1st-experiment-hello-world)\n",
    "2. [Train your ML network](https://docs.microsoft.com/en-us/azure/machine-learning/tutorial-1st-experiment-sdk-train)\n",
    "3. [Use own data](https://docs.microsoft.com/en-us/azure/machine-learning/tutorial-1st-experiment-bring-data)\n",
    "4. [Create SW Environment](https://docs.microsoft.com/en-us/azure/machine-learning/how-to-use-environments)\n",
    "5. [Where & How to save outputs from your training](https://docs.microsoft.com/en-us/azure/machine-learning/how-to-save-write-experiment-files)\n",
    "\n",
    "\n",
    "### 5.1. Let's start here with useful imports\n",
    "If you are starting from here and don't have all the imports from previous steps, then here you are..."
   ]
  },
  {
   "cell_type": "code",
   "execution_count": 1,
   "metadata": {
    "collapsed": true
   },
   "outputs": [
    {
     "name": "stdout",
     "output_type": "stream",
     "text": [
      "Azure ML SDK Version:  1.28.0\n"
     ]
    }
   ],
   "source": [
    "import os\n",
    "import azureml.core\n",
    "from azureml.core import Workspace\n",
    "from azureml.core import Experiment\n",
    "from azureml.core.environment import Environment\n",
    "from azureml.core import ScriptRunConfig\n",
    "from azureml.core import Dataset\n",
    "from azureml.data.datapath import DataPath\n",
    "from azureml.core.authentication import InteractiveLoginAuthentication\n",
    "\n",
    "print(\"Azure ML SDK Version: \", azureml.core.VERSION)"
   ]
  },
  {
   "cell_type": "markdown",
   "metadata": {
    "collapsed": false,
    "pycharm": {
     "name": "#%% md\n"
    }
   },
   "source": [
    "### 5.2 Don't forget to log in to your workspace\n",
    "(usually the authentication is required only the first time)"
   ]
  },
  {
   "cell_type": "code",
   "execution_count": 2,
   "metadata": {
    "collapsed": false,
    "pycharm": {
     "name": "#%%\n"
    }
   },
   "outputs": [
    {
     "name": "stdout",
     "output_type": "stream",
     "text": [
      "a0047stufiitml01\twesteurope\ta0047-STUFIIT-ML01\n"
     ]
    }
   ],
   "source": [
    "ws = Workspace.from_config('azure_config.json', auth=InteractiveLoginAuthentication())\n",
    "print(ws.name, ws.location, ws.resource_group, sep='\\t')"
   ]
  },
  {
   "cell_type": "markdown",
   "metadata": {
    "collapsed": false,
    "pycharm": {
     "name": "#%% md\n"
    }
   },
   "source": [
    "### 5.3 Get your created Dataset - for use in training"
   ]
  },
  {
   "cell_type": "code",
   "execution_count": 6,
   "metadata": {
    "collapsed": false,
    "pycharm": {
     "name": "#%%\n"
    }
   },
   "outputs": [],
   "source": [
    "dataset = Dataset.get_by_name(workspace=ws, name='TexDat')"
   ]
  },
  {
   "cell_type": "markdown",
   "metadata": {
    "collapsed": false,
    "pycharm": {
     "name": "#%% md\n"
    }
   },
   "source": [
    "### 5.4 Pretty much everything is configured by this ScriptRunConfig\n",
    "Read the [documentation](https://docs.microsoft.com/en-us/python/api/azureml-core/azureml.core.scriptrunconfig?view=azure-ml-py). <br>\n",
    "If you ever wondered, how the Azure runs your scripts - it uploads your `source_directory`. Use `.gitignore` if there is anything not required to run your script, because the whole space for created snapshot is only 300MB including `./outputs`. <br>\n",
    "You can [override snapshot size limit](https://docs.microsoft.com/en-us/azure/machine-learning/how-to-save-write-experiment-files#storage-limits-of-experiment-snapshots), though."
   ]
  },
  {
   "cell_type": "code",
   "execution_count": 12,
   "metadata": {
    "collapsed": false,
    "pycharm": {
     "name": "#%%\n"
    }
   },
   "outputs": [],
   "source": [
    "config = ScriptRunConfig(source_directory='../',\n",
    "                         script='main.py',\n",
    "                         arguments=['--wandb', \"use your own key :P\",\n",
    "                                    '--data_path', dataset.as_mount()], # This is important how to mount dataset from DataStore\n",
    "                         compute_target='P100x1-hudec') # Compute target is your created compute cluster"
   ]
  },
  {
   "cell_type": "markdown",
   "metadata": {
    "collapsed": false,
    "pycharm": {
     "name": "#%% md\n"
    }
   },
   "source": [
    "### 5.4 Set the name of your experiment\n",
    "... where all your runs will be aggregated"
   ]
  },
  {
   "cell_type": "code",
   "execution_count": 8,
   "metadata": {
    "collapsed": false,
    "pycharm": {
     "name": "#%%\n"
    }
   },
   "outputs": [],
   "source": [
    "experiment = Experiment(workspace=ws, name='Texture2018')"
   ]
  },
  {
   "cell_type": "markdown",
   "metadata": {
    "collapsed": false,
    "pycharm": {
     "name": "#%% md\n"
    }
   },
   "source": [
    "### 5.5 Create/Select your required remote environment\n",
    "###### Note1: pip install opencv-python-headless - for standard opencv AzureML returns import error\n",
    "###### Note2: Beware that not all latest libraries are available for AzureML... PyTorch 1.8.0 thankfully is ;)\n",
    "\n",
    "#### 5.5.1 You can list [curated](https://docs.microsoft.com/en-us/azure/machine-learning/how-to-use-environments#use-a-curated-environment) azure environments\n",
    "And select one of already registered environments - if it has all you need for your ML project"
   ]
  },
  {
   "cell_type": "code",
   "execution_count": 35,
   "metadata": {
    "collapsed": false,
    "pycharm": {
     "name": "#%%\n"
    }
   },
   "outputs": [
    {
     "name": "stdout",
     "output_type": "stream",
     "text": [
      "0. pt-wandb-env\n",
      "1. tf-wandb-env\n",
      "2. Torch1.8-Opencv-wandb\n",
      "3. AzureML-Pytorch1.7-Cuda11-OpenMpi4.1.0-py36\n",
      "4. AzureML-Scikit-learn0.24-Cuda11-OpenMpi4.1.0-py36\n",
      "5. AzureML-TensorFlow2.4-Cuda11-OpenMpi4.1.0-py36\n",
      "6. AzureML-Minimal\n",
      "7. AzureML-Triton\n",
      "8. AzureML-Minimal-Inference-CPU\n",
      "9. AzureML-TensorFlow-1.15-Inference-CPU\n",
      "10. AzureML-PyTorch-1.6-CPU\n",
      "11. AzureML-XGBoost-0.9-Inference-CPU\n",
      "12. AzureML-PyTorch-1.6-Inference-CPU\n",
      "13. AzureML-DeepSpeed-0.3-GPU\n",
      "14. AzureML-TensorFlow-2.3-CPU\n",
      "15. AzureML-PyTorch-1.6-GPU\n",
      "16. AzureML-TensorFlow-2.3-GPU\n",
      "17. AzureML-TensorFlow-2.2-CPU\n",
      "18. AzureML-Tutorial\n",
      "19. AzureML-TensorFlow-2.2-GPU\n",
      "20. AzureML-tensorflow-2.4-ubuntu18.04-py37-cuda11-gpu\n",
      "21. AzureML-sklearn-0.24-ubuntu18.04-py37-cuda11-gpu\n",
      "22. AzureML-pytorch-1.7-ubuntu18.04-py37-cuda11-gpu\n",
      "23. AzureML-VowpalWabbit-8.8.0\n",
      "24. AzureML-PyTorch-1.3-CPU\n",
      "25. AzureML-PyTorch-1.5-CPU\n",
      "26. AzureML-PyTorch-1.5-GPU\n"
     ]
    }
   ],
   "source": [
    "for i,key in enumerate(ws.environments.keys()):\n",
    "    print(f\"{i}.\",key)"
   ]
  },
  {
   "cell_type": "markdown",
   "metadata": {
    "collapsed": false,
    "pycharm": {
     "name": "#%% md\n"
    }
   },
   "source": [
    "You can see the libraries included (watch for the counter)"
   ]
  },
  {
   "cell_type": "code",
   "execution_count": 38,
   "metadata": {
    "collapsed": false,
    "pycharm": {
     "name": "#%%\n"
    }
   },
   "outputs": [
    {
     "name": "stdout",
     "output_type": "stream",
     "text": [
      "Name pt-wandb-env\n",
      "packages channels:\n",
      "- conda-forge\n",
      "- anaconda\n",
      "dependencies:\n",
      "- python=3.6.2\n",
      "- scipy\n",
      "- scikit-image\n",
      "- scikit-learn\n",
      "- numpy\n",
      "- pandas\n",
      "- pip:\n",
      "  - azureml-defaults\n",
      "  - azureml-core\n",
      "  - azureml-dataset-runtime\n",
      "  - wandb\n",
      "  - Pillow\n",
      "  - torch==1.6.0\n",
      "  - torchvision==0.7.0\n",
      "name: azureml_ab95fef37536a3cdc05badd51f080bd5\n",
      "\n",
      "Name tf-wandb-env\n",
      "packages channels:\n",
      "- conda-forge\n",
      "- anaconda\n",
      "dependencies:\n",
      "- python=3.6.2\n",
      "- scipy\n",
      "- scikit-image\n",
      "- scikit-learn\n",
      "- numpy\n",
      "- pandas\n",
      "- pip:\n",
      "  - azureml-core\n",
      "  - azureml-dataset-runtime\n",
      "  - tensorflow-gpu==2.2.0\n",
      "  - wandb\n",
      "  - Pillow\n",
      "name: azureml_fa25278502cdb61f88f71980f535b1b5\n",
      "\n",
      "Name Torch1.8-Opencv-wandb\n",
      "packages channels:\n",
      "- anaconda\n",
      "- conda-forge\n",
      "dependencies:\n",
      "- python=3.6.2\n",
      "- pip:\n",
      "  - wandb==0.10.30\n",
      "  - torch>=1.8.1\n",
      "  - torch-summary\n",
      "  - numpy>=1.19.3\n",
      "  - opencv-python-headless>=4.4.0.46\n",
      "  - matplotlib>=3.3.3\n",
      "  - tqdm==4.60.0\n",
      "  - azureml-core==1.28.0\n",
      "- pip\n",
      "name: azureml_d0e2eed3435e05eb20828b9dfa35f644\n",
      "\n"
     ]
    }
   ],
   "source": [
    "envs = Environment.list(workspace=ws)\n",
    "count = 0\n",
    "for env in envs:\n",
    "    print(\"Name\",env)\n",
    "    print(\"packages\", envs[env].python.conda_dependencies.serialize_to_string())\n",
    "    count += 1\n",
    "    if count == 3:\n",
    "        break"
   ]
  },
  {
   "cell_type": "markdown",
   "metadata": {
    "collapsed": false,
    "pycharm": {
     "name": "#%% md\n"
    }
   },
   "source": [
    "#### 5.5.2 Or you can create your own environment\n",
    ".. from scratch using conda dependencies or pip [requirements.txt](https://docs.microsoft.com/en-us/azure/machine-learning/how-to-use-environments#use-conda-dependencies-or-pip-requirements-files)\n",
    ".. dont't forget to register it to workspace\n",
    ".. you can allow Docker for quicker loading..."
   ]
  },
  {
   "cell_type": "code",
   "execution_count": null,
   "metadata": {
    "collapsed": false,
    "pycharm": {
     "name": "#%%\n"
    }
   },
   "outputs": [],
   "source": [
    "azureml.core.runconfig.DockerConfiguration(use_docker=True)\n",
    "env = Environment.from_pip_requirements(name='Torch1.8-Opencv-wandb', file_path='../requirements.txt')\n",
    "env.register(workspace=ws)"
   ]
  },
  {
   "cell_type": "markdown",
   "metadata": {
    "collapsed": false,
    "pycharm": {
     "name": "#%% md\n"
    }
   },
   "source": [
    "#### 5.5.3. Select the one environment you desire\n",
    "Or actually once you create your required env and register it, this is the only thing you will be calling `Environment.get(...)`"
   ]
  },
  {
   "cell_type": "code",
   "execution_count": 49,
   "metadata": {
    "collapsed": false,
    "pycharm": {
     "name": "#%%\n"
    }
   },
   "outputs": [
    {
     "data": {
      "text/plain": [
       "{\n",
       "    \"databricks\": {\n",
       "        \"eggLibraries\": [],\n",
       "        \"jarLibraries\": [],\n",
       "        \"mavenLibraries\": [],\n",
       "        \"pypiLibraries\": [],\n",
       "        \"rcranLibraries\": []\n",
       "    },\n",
       "    \"docker\": {\n",
       "        \"arguments\": [],\n",
       "        \"baseDockerfile\": null,\n",
       "        \"baseImage\": \"mcr.microsoft.com/azureml/openmpi3.1.2-ubuntu18.04:20210301.v1\",\n",
       "        \"baseImageRegistry\": {\n",
       "            \"address\": null,\n",
       "            \"password\": null,\n",
       "            \"registryIdentity\": null,\n",
       "            \"username\": null\n",
       "        },\n",
       "        \"enabled\": false,\n",
       "        \"platform\": {\n",
       "            \"architecture\": \"amd64\",\n",
       "            \"os\": \"Linux\"\n",
       "        },\n",
       "        \"sharedVolumes\": true,\n",
       "        \"shmSize\": null\n",
       "    },\n",
       "    \"environmentVariables\": {\n",
       "        \"EXAMPLE_ENV_VAR\": \"EXAMPLE_VALUE\"\n",
       "    },\n",
       "    \"inferencingStackVersion\": null,\n",
       "    \"name\": \"Torch1.8-Opencv-wandb\",\n",
       "    \"python\": {\n",
       "        \"baseCondaEnvironment\": null,\n",
       "        \"condaDependencies\": {\n",
       "            \"channels\": [\n",
       "                \"anaconda\",\n",
       "                \"conda-forge\"\n",
       "            ],\n",
       "            \"dependencies\": [\n",
       "                \"python=3.6.2\",\n",
       "                {\n",
       "                    \"pip\": [\n",
       "                        \"wandb==0.10.30\",\n",
       "                        \"torch>=1.8.1\",\n",
       "                        \"torch-summary\",\n",
       "                        \"numpy>=1.19.3\",\n",
       "                        \"opencv-python-headless>=4.4.0.46\",\n",
       "                        \"matplotlib>=3.3.3\",\n",
       "                        \"tqdm==4.60.0\",\n",
       "                        \"azureml-core==1.28.0\"\n",
       "                    ]\n",
       "                },\n",
       "                \"pip\"\n",
       "            ],\n",
       "            \"name\": \"azureml_d0e2eed3435e05eb20828b9dfa35f644\"\n",
       "        },\n",
       "        \"condaDependenciesFile\": null,\n",
       "        \"interpreterPath\": \"python\",\n",
       "        \"userManagedDependencies\": false\n",
       "    },\n",
       "    \"r\": null,\n",
       "    \"spark\": {\n",
       "        \"packages\": [],\n",
       "        \"precachePackages\": true,\n",
       "        \"repositories\": []\n",
       "    },\n",
       "    \"version\": \"2\"\n",
       "}"
      ]
     },
     "execution_count": 49,
     "metadata": {},
     "output_type": "execute_result"
    }
   ],
   "source": [
    "env = Environment.get(workspace=ws, name='Torch1.8-Opencv-wandb')"
   ]
  },
  {
   "cell_type": "markdown",
   "metadata": {
    "collapsed": false,
    "pycharm": {
     "name": "#%% md\n"
    }
   },
   "source": [
    "#### 5.5.4. And of course, we need to use the environment"
   ]
  },
  {
   "cell_type": "code",
   "execution_count": 13,
   "metadata": {
    "collapsed": false,
    "pycharm": {
     "name": "#%%\n"
    }
   },
   "outputs": [],
   "source": [
    "config.run_config.environment = env\n"
   ]
  },
  {
   "cell_type": "markdown",
   "metadata": {
    "collapsed": false,
    "pycharm": {
     "name": "#%% md\n"
    }
   },
   "source": [
    "## 5.6. Submit your experiment with config to AzureML\n",
    "...and watch it in your jupyter ntb or in azureml studio.."
   ]
  },
  {
   "cell_type": "code",
   "execution_count": 14,
   "metadata": {
    "collapsed": false,
    "pycharm": {
     "name": "#%%\n"
    }
   },
   "outputs": [],
   "source": [
    "run = experiment.submit(config)"
   ]
  },
  {
   "cell_type": "code",
   "execution_count": 28,
   "metadata": {
    "collapsed": false,
    "pycharm": {
     "name": "#%%\n"
    }
   },
   "outputs": [
    {
     "name": "stdout",
     "output_type": "stream",
     "text": [
      "https://ml.azure.com/runs/Texture2018_1621849379_0e646884?wsid=/subscriptions/bc82dccd-f19d-42cb-9ce3-0d5df33ef086/resourcegroups/a0047-STUFIIT-ML01/workspaces/a0047stufiitml01&tid=5dbf1add-202a-4b8d-815b-bf0fb024e033\n"
     ]
    }
   ],
   "source": [
    "aml_url = run.get_portal_url()\n",
    "print(aml_url)"
   ]
  },
  {
   "cell_type": "markdown",
   "metadata": {
    "collapsed": false,
    "pycharm": {
     "name": "#%% md\n"
    }
   },
   "source": [
    "# There is a lot more to do with Azure...\n",
    "Like logging for example... <br>\n",
    "I did not try it, because I use [wandb](wandb.ai). <br>\n",
    "\n",
    "## Important\n",
    "To log anything, use AML [Run module](https://docs.microsoft.com/en-us/python/api/azureml-core/azureml.core.run(class)?view=azure-ml-py#azureml_core_Run_get_context) <br>\n",
    "To save your model - use `import os` and save it to default directory `./outputs`. Then, you can use `os` calls and also torch/tf calls to save models when you have the correct path\n",
    "\n",
    "This is where you will find it all: <br>\n",
    "![Runs Outputs](./../img/run_outputs.png)"
   ]
  }
 ],
 "metadata": {
  "kernelspec": {
   "display_name": "Python 3.9.1 64-bit",
   "language": "python",
   "name": "python3"
  },
  "language_info": {
   "codemirror_mode": {
    "name": "ipython",
    "version": 3
   },
   "file_extension": ".py",
   "mimetype": "text/x-python",
   "name": "python",
   "nbconvert_exporter": "python",
   "pygments_lexer": "ipython3",
   "version": "3.9.1"
  },
  "vscode": {
   "interpreter": {
    "hash": "116fc7c7e1621abaefb4a1aca205b4e65f2959de752761e68d17bdea8f0e5c06"
   }
  }
 },
 "nbformat": 4,
 "nbformat_minor": 0
}
